{
 "cells": [
  {
   "cell_type": "code",
   "execution_count": 1,
   "metadata": {
    "collapsed": true
   },
   "outputs": [],
   "source": [
    "import requests"
   ]
  },
  {
   "cell_type": "code",
   "execution_count": 2,
   "metadata": {
    "collapsed": true
   },
   "outputs": [],
   "source": [
    "res= requests.get('http://localhost:9200')"
   ]
  },
  {
   "cell_type": "code",
   "execution_count": 3,
   "metadata": {},
   "outputs": [
    {
     "name": "stdout",
     "output_type": "stream",
     "text": [
      "{\n",
      "  \"name\" : \"uMRcX8c\",\n",
      "  \"cluster_name\" : \"elasticsearch\",\n",
      "  \"cluster_uuid\" : \"u5F0UAhyQp2aBwUZVYvFOA\",\n",
      "  \"version\" : {\n",
      "    \"number\" : \"5.4.1\",\n",
      "    \"build_hash\" : \"2cfe0df\",\n",
      "    \"build_date\" : \"2017-05-29T16:05:51.443Z\",\n",
      "    \"build_snapshot\" : false,\n",
      "    \"lucene_version\" : \"6.5.1\"\n",
      "  },\n",
      "  \"tagline\" : \"You Know, for Search\"\n",
      "}\n",
      "\n"
     ]
    }
   ],
   "source": [
    "print res.content"
   ]
  },
  {
   "cell_type": "code",
   "execution_count": 4,
   "metadata": {
    "collapsed": true
   },
   "outputs": [],
   "source": [
    "from elasticsearch import Elasticsearch\n",
    "es = Elasticsearch([{'host': 'localhost', 'port': 9200}])"
   ]
  },
  {
   "cell_type": "code",
   "execution_count": 5,
   "metadata": {
    "collapsed": true
   },
   "outputs": [],
   "source": [
    "import json"
   ]
  },
  {
   "cell_type": "code",
   "execution_count": 6,
   "metadata": {},
   "outputs": [
    {
     "name": "stdout",
     "output_type": "stream",
     "text": [
      "18\n"
     ]
    }
   ],
   "source": [
    "r = requests.get('http://localhost:9200')\n",
    "i = 1\n",
    "while r.status_code == 200:\n",
    "    r = requests.get('http://swapi.co/api/people/' + str(i)) # Load data from the Star Wars API\n",
    "    es.index(index='sw', doc_type='people', id=i, body=json.loads(r.content))\n",
    "    i = i+1\n",
    "print(i)"
   ]
  },
  {
   "cell_type": "code",
   "execution_count": 7,
   "metadata": {},
   "outputs": [
    {
     "data": {
      "text/plain": [
       "{u'_id': u'5',\n",
       " u'_index': u'sw',\n",
       " u'_source': {u'birth_year': u'19BBY',\n",
       "  u'created': u'2014-12-10T15:20:09.791000Z',\n",
       "  u'edited': u'2014-12-20T21:17:50.315000Z',\n",
       "  u'eye_color': u'brown',\n",
       "  u'films': [u'http://swapi.co/api/films/2/',\n",
       "   u'http://swapi.co/api/films/6/',\n",
       "   u'http://swapi.co/api/films/3/',\n",
       "   u'http://swapi.co/api/films/1/',\n",
       "   u'http://swapi.co/api/films/7/'],\n",
       "  u'gender': u'female',\n",
       "  u'hair_color': u'brown',\n",
       "  u'height': u'150',\n",
       "  u'homeworld': u'http://swapi.co/api/planets/2/',\n",
       "  u'mass': u'49',\n",
       "  u'name': u'Leia Organa',\n",
       "  u'skin_color': u'light',\n",
       "  u'species': [u'http://swapi.co/api/species/1/'],\n",
       "  u'starships': [],\n",
       "  u'url': u'http://swapi.co/api/people/5/',\n",
       "  u'vehicles': [u'http://swapi.co/api/vehicles/30/']},\n",
       " u'_type': u'people',\n",
       " u'_version': 2,\n",
       " u'found': True}"
      ]
     },
     "execution_count": 7,
     "metadata": {},
     "output_type": "execute_result"
    }
   ],
   "source": [
    "es.get(index='sw', doc_type='people', id=5)"
   ]
  },
  {
   "cell_type": "code",
   "execution_count": 9,
   "metadata": {},
   "outputs": [
    {
     "data": {
      "text/plain": [
       "{u'_shards': {u'failed': 0, u'successful': 5, u'total': 5},\n",
       " u'hits': {u'hits': [{u'_id': u'4',\n",
       "    u'_index': u'sw',\n",
       "    u'_score': 2.0245886,\n",
       "    u'_source': {u'birth_year': u'41.9BBY',\n",
       "     u'created': u'2014-12-10T15:18:20.704000Z',\n",
       "     u'edited': u'2014-12-20T21:17:50.313000Z',\n",
       "     u'eye_color': u'yellow',\n",
       "     u'films': [u'http://swapi.co/api/films/2/',\n",
       "      u'http://swapi.co/api/films/6/',\n",
       "      u'http://swapi.co/api/films/3/',\n",
       "      u'http://swapi.co/api/films/1/'],\n",
       "     u'gender': u'male',\n",
       "     u'hair_color': u'none',\n",
       "     u'height': u'202',\n",
       "     u'homeworld': u'http://swapi.co/api/planets/1/',\n",
       "     u'mass': u'136',\n",
       "     u'name': u'Darth Vader',\n",
       "     u'skin_color': u'white',\n",
       "     u'species': [u'http://swapi.co/api/species/1/'],\n",
       "     u'starships': [u'http://swapi.co/api/starships/13/'],\n",
       "     u'url': u'http://swapi.co/api/people/4/',\n",
       "     u'vehicles': []},\n",
       "    u'_type': u'people'}],\n",
       "  u'max_score': 2.0245886,\n",
       "  u'total': 1},\n",
       " u'timed_out': False,\n",
       " u'took': 290}"
      ]
     },
     "execution_count": 9,
     "metadata": {},
     "output_type": "execute_result"
    }
   ],
   "source": [
    "es.search(index=\"sw\", body={\"query\": {\"match\": {'name': 'Darth Vader'}}})"
   ]
  },
  {
   "cell_type": "code",
   "execution_count": 10,
   "metadata": {},
   "outputs": [
    {
     "data": {
      "text/plain": [
       "{u'_shards': {u'failed': 0, u'successful': 5, u'total': 5},\n",
       " u'hits': {u'hits': [{u'_id': u'1',\n",
       "    u'_index': u'sw',\n",
       "    u'_score': 1.0,\n",
       "    u'_source': {u'birth_year': u'19BBY',\n",
       "     u'created': u'2014-12-09T13:50:51.644000Z',\n",
       "     u'edited': u'2014-12-20T21:17:56.891000Z',\n",
       "     u'eye_color': u'blue',\n",
       "     u'films': [u'http://swapi.co/api/films/2/',\n",
       "      u'http://swapi.co/api/films/6/',\n",
       "      u'http://swapi.co/api/films/3/',\n",
       "      u'http://swapi.co/api/films/1/',\n",
       "      u'http://swapi.co/api/films/7/'],\n",
       "     u'gender': u'male',\n",
       "     u'hair_color': u'blond',\n",
       "     u'height': u'172',\n",
       "     u'homeworld': u'http://swapi.co/api/planets/1/',\n",
       "     u'mass': u'77',\n",
       "     u'name': u'Luke Skywalker',\n",
       "     u'skin_color': u'fair',\n",
       "     u'species': [u'http://swapi.co/api/species/1/'],\n",
       "     u'starships': [u'http://swapi.co/api/starships/12/',\n",
       "      u'http://swapi.co/api/starships/22/'],\n",
       "     u'url': u'http://swapi.co/api/people/1/',\n",
       "     u'vehicles': [u'http://swapi.co/api/vehicles/14/',\n",
       "      u'http://swapi.co/api/vehicles/30/']},\n",
       "    u'_type': u'people'}],\n",
       "  u'max_score': 1.0,\n",
       "  u'total': 1},\n",
       " u'timed_out': False,\n",
       " u'took': 83}"
      ]
     },
     "execution_count": 10,
     "metadata": {},
     "output_type": "execute_result"
    }
   ],
   "source": [
    "es.search(index=\"sw\", body={\"query\": {\"prefix\" : { \"name\" : \"lu\" }}})"
   ]
  },
  {
   "cell_type": "code",
   "execution_count": 34,
   "metadata": {},
   "outputs": [
    {
     "data": {
      "text/plain": [
       "{u'_shards': {u'failed': 0, u'successful': 5, u'total': 5},\n",
       " u'hits': {u'hits': [{u'_id': u'16',\n",
       "    u'_index': u'sw',\n",
       "    u'_score': 0.685019,\n",
       "    u'_source': {u'birth_year': u'600BBY',\n",
       "     u'created': u'2014-12-10T17:11:31.638000Z',\n",
       "     u'edited': u'2014-12-20T21:17:50.338000Z',\n",
       "     u'eye_color': u'orange',\n",
       "     u'films': [u'http://swapi.co/api/films/4/',\n",
       "      u'http://swapi.co/api/films/3/',\n",
       "      u'http://swapi.co/api/films/1/'],\n",
       "     u'gender': u'hermaphrodite',\n",
       "     u'hair_color': u'n/a',\n",
       "     u'height': u'175',\n",
       "     u'homeworld': u'http://swapi.co/api/planets/24/',\n",
       "     u'mass': u'1,358',\n",
       "     u'name': u'Jabba Desilijic Tiure',\n",
       "     u'skin_color': u'green-tan, brown',\n",
       "     u'species': [u'http://swapi.co/api/species/5/'],\n",
       "     u'starships': [],\n",
       "     u'url': u'http://swapi.co/api/people/16/',\n",
       "     u'vehicles': []},\n",
       "    u'_type': u'people'}],\n",
       "  u'max_score': 0.685019,\n",
       "  u'total': 1},\n",
       " u'timed_out': False,\n",
       " u'took': 14}"
      ]
     },
     "execution_count": 34,
     "metadata": {},
     "output_type": "execute_result"
    }
   ],
   "source": [
    "es.search(index=\"sw\", body={\"query\": {\"fuzzy\" : { \"name\" : \"jaba\"}}})"
   ]
  },
  {
   "cell_type": "code",
   "execution_count": null,
   "metadata": {
    "collapsed": true
   },
   "outputs": [],
   "source": []
  }
 ],
 "metadata": {
  "kernelspec": {
   "display_name": "Python 2",
   "language": "python",
   "name": "python2"
  },
  "language_info": {
   "codemirror_mode": {
    "name": "ipython",
    "version": 2
   },
   "file_extension": ".py",
   "mimetype": "text/x-python",
   "name": "python",
   "nbconvert_exporter": "python",
   "pygments_lexer": "ipython2",
   "version": "2.7.12"
  }
 },
 "nbformat": 4,
 "nbformat_minor": 2
}
