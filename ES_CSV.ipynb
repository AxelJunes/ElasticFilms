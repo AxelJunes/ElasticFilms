{
 "cells": [
  {
   "cell_type": "code",
   "execution_count": 1,
   "metadata": {},
   "outputs": [],
   "source": [
    "import pandas as pd\n",
    "from elasticsearch import Elasticsearch\n",
    "from imdb import IMDb"
   ]
  },
  {
   "cell_type": "code",
   "execution_count": 2,
   "metadata": {
    "collapsed": true
   },
   "outputs": [],
   "source": [
    "# Get data frame with data from movies\n",
    "df = pd.read_csv('movies.csv', sep=',')"
   ]
  },
  {
   "cell_type": "code",
   "execution_count": 3,
   "metadata": {
    "collapsed": true
   },
   "outputs": [],
   "source": [
    "# Save only western movies to new dataframe\n",
    "western_movies = df.loc[df['genres'] == 'Western']"
   ]
  },
  {
   "cell_type": "code",
   "execution_count": 4,
   "metadata": {
    "collapsed": true
   },
   "outputs": [],
   "source": [
    "# Get movie IDs\n",
    "western_titles = western_movies.as_matrix(columns=df.columns[1:2])"
   ]
  },
  {
   "cell_type": "code",
   "execution_count": 5,
   "metadata": {
    "collapsed": true
   },
   "outputs": [],
   "source": [
    "# Search movies with IMDBpy crawling tool\n",
    "ia = IMDb()\n",
    "movieIDs = []\n",
    "for title in western_titles:\n",
    "    movies = ia.search_movie(title.item(0))\n",
    "    if(len(movies) > 0):\n",
    "        movieIDs.append(movies[0].movieID)"
   ]
  },
  {
   "cell_type": "code",
   "execution_count": 6,
   "metadata": {
    "collapsed": true
   },
   "outputs": [],
   "source": [
    "es = Elasticsearch()"
   ]
  },
  {
   "cell_type": "code",
   "execution_count": 7,
   "metadata": {},
   "outputs": [
    {
     "data": {
      "text/plain": [
       "{u'error': {u'index': u'movie-index',\n",
       "  u'index_uuid': u'WkykToMrT9GaNj7sqywbRw',\n",
       "  u'reason': u'index [movie-index/WkykToMrT9GaNj7sqywbRw] already exists',\n",
       "  u'root_cause': [{u'index': u'movie-index',\n",
       "    u'index_uuid': u'WkykToMrT9GaNj7sqywbRw',\n",
       "    u'reason': u'index [movie-index/WkykToMrT9GaNj7sqywbRw] already exists',\n",
       "    u'type': u'index_already_exists_exception'}],\n",
       "  u'type': u'index_already_exists_exception'},\n",
       " u'status': 400}"
      ]
     },
     "execution_count": 7,
     "metadata": {},
     "output_type": "execute_result"
    }
   ],
   "source": [
    "es.indices.create(index=\"movie-index\", ignore=400)"
   ]
  },
  {
   "cell_type": "code",
   "execution_count": 8,
   "metadata": {},
   "outputs": [],
   "source": [
    "# Index all the movies in ElasticSearch\n",
    "ia = IMDb()\n",
    "for i in range(1, len(movieIDs)):\n",
    "    movie = ia.get_movie(movieIDs[i])\n",
    "    es.index(index='movie-index', doc_type='movie', body={\n",
    "        'id': i,\n",
    "        'title': movie.get('title'),\n",
    "        'plot': movie.get('plot outline')\n",
    "    })\n",
    "        "
   ]
  },
  {
   "cell_type": "code",
   "execution_count": 9,
   "metadata": {},
   "outputs": [
    {
     "data": {
      "text/plain": [
       "{u'_shards': {u'failed': 0, u'successful': 5, u'total': 5},\n",
       " u'hits': {u'hits': [{u'_id': u'AVymQpthE-HKshLZMdsI',\n",
       "    u'_index': u'movie-index',\n",
       "    u'_score': 5.6424317,\n",
       "    u'_source': {u'id': 31,\n",
       "     u'plot': u'In 1871 Dakota, two crooked businessmen oppose the local wheat farmers and the railroad development, in order to control the town of Fargo.',\n",
       "     u'title': u'Dakota'},\n",
       "    u'_type': u'title'},\n",
       "   {u'_id': u'AVymY4vEE-HKshLZMdvd',\n",
       "    u'_index': u'movie-index',\n",
       "    u'_score': 5.6424317,\n",
       "    u'_source': {u'id': 31,\n",
       "     u'plot': u'In 1871 Dakota, two crooked businessmen oppose the local wheat farmers and the railroad development, in order to control the town of Fargo.',\n",
       "     u'title': u'Dakota'},\n",
       "    u'_type': u'movie'}],\n",
       "  u'max_score': 5.6424317,\n",
       "  u'total': 2},\n",
       " u'timed_out': False,\n",
       " u'took': 2}"
      ]
     },
     "execution_count": 9,
     "metadata": {},
     "output_type": "execute_result"
    }
   ],
   "source": [
    "# Query test\n",
    "es.search(index='movie-index', body={\"query\": {\"match\": {'title':'Dakota'}}})"
   ]
  },
  {
   "cell_type": "code",
   "execution_count": 10,
   "metadata": {},
   "outputs": [
    {
     "data": {
      "text/plain": [
       "{u'_shards': {u'failed': 0, u'successful': 5, u'total': 5},\n",
       " u'hits': {u'hits': [{u'_id': u'AVymaX5CE-HKshLZMdx4',\n",
       "    u'_index': u'movie-index',\n",
       "    u'_score': 2.6259067,\n",
       "    u'_source': {u'id': 186,\n",
       "     u'plot': u'The story of William \"Buffalo Bill\" Cody, legendary westerner, from his days as an army scout to his later activities as owner of a Wild West show.',\n",
       "     u'title': u'Buffalo Bill'},\n",
       "    u'_type': u'movie'},\n",
       "   {u'_id': u'AVymY_bKE-HKshLZMdvp',\n",
       "    u'_index': u'movie-index',\n",
       "    u'_score': 2.5822492,\n",
       "    u'_source': {u'id': 43,\n",
       "     u'plot': u\"In 1909, when John Fain's gang kidnaps Big Jake McCandles' grandson and hold him for ransom, Big Jake sets out to rescue the boy.\",\n",
       "     u'title': u'Big Jake'},\n",
       "    u'_type': u'movie'},\n",
       "   {u'_id': u'AVymQyKmE-HKshLZMdsU',\n",
       "    u'_index': u'movie-index',\n",
       "    u'_score': 2.5733304,\n",
       "    u'_source': {u'id': 43,\n",
       "     u'plot': u\"In 1909, when John Fain's gang kidnaps Big Jake McCandles' grandson and hold him for ransom, Big Jake sets out to rescue the boy.\",\n",
       "     u'title': u'Big Jake'},\n",
       "    u'_type': u'title'}],\n",
       "  u'max_score': 2.6259067,\n",
       "  u'total': 11},\n",
       " u'timed_out': False,\n",
       " u'took': 37}"
      ]
     },
     "execution_count": 10,
     "metadata": {},
     "output_type": "execute_result"
    }
   ],
   "source": [
    "# Show first three items with best score\n",
    "es.search(index='movie-index', body={\"query\": {\"fuzzy\" : { \"title\" : \"bil\"}}}, size=3)"
   ]
  },
  {
   "cell_type": "code",
   "execution_count": null,
   "metadata": {
    "collapsed": true
   },
   "outputs": [],
   "source": []
  }
 ],
 "metadata": {
  "kernelspec": {
   "display_name": "Python 2",
   "language": "python",
   "name": "python2"
  },
  "language_info": {
   "codemirror_mode": {
    "name": "ipython",
    "version": 2
   },
   "file_extension": ".py",
   "mimetype": "text/x-python",
   "name": "python",
   "nbconvert_exporter": "python",
   "pygments_lexer": "ipython2",
   "version": "2.7.12"
  }
 },
 "nbformat": 4,
 "nbformat_minor": 2
}
