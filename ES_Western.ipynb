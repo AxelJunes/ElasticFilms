{
 "cells": [
  {
   "cell_type": "code",
   "execution_count": 1,
   "metadata": {
    "collapsed": true
   },
   "outputs": [],
   "source": [
    "import pandas as pd\n",
    "from elasticsearch import Elasticsearch\n",
    "from imdb import IMDb"
   ]
  },
  {
   "cell_type": "code",
   "execution_count": 2,
   "metadata": {
    "collapsed": true
   },
   "outputs": [],
   "source": [
    "# Get data frame with data from movies\n",
    "df = pd.read_csv('western.csv', sep=';')"
   ]
  },
  {
   "cell_type": "code",
   "execution_count": 3,
   "metadata": {},
   "outputs": [
    {
     "data": {
      "text/html": [
       "<div>\n",
       "<style>\n",
       "    .dataframe thead tr:only-child th {\n",
       "        text-align: right;\n",
       "    }\n",
       "\n",
       "    .dataframe thead th {\n",
       "        text-align: left;\n",
       "    }\n",
       "\n",
       "    .dataframe tbody tr th {\n",
       "        vertical-align: top;\n",
       "    }\n",
       "</style>\n",
       "<table border=\"1\" class=\"dataframe\">\n",
       "  <thead>\n",
       "    <tr style=\"text-align: right;\">\n",
       "      <th></th>\n",
       "      <th>Unnamed: 0</th>\n",
       "      <th>title</th>\n",
       "      <th>plot</th>\n",
       "    </tr>\n",
       "  </thead>\n",
       "  <tbody>\n",
       "    <tr>\n",
       "      <th>0</th>\n",
       "      <td>0</td>\n",
       "      <td>Wild Bill</td>\n",
       "      <td>The early career of legendary lawman Wild Bill...</td>\n",
       "    </tr>\n",
       "    <tr>\n",
       "      <th>1</th>\n",
       "      <td>1</td>\n",
       "      <td>Wyatt Earp</td>\n",
       "      <td>Wyatt Earp is a movie about a man and his fami...</td>\n",
       "    </tr>\n",
       "    <tr>\n",
       "      <th>2</th>\n",
       "      <td>2</td>\n",
       "      <td>Bad Girls</td>\n",
       "      <td>Four prostitutes join together to travel the O...</td>\n",
       "    </tr>\n",
       "    <tr>\n",
       "      <th>3</th>\n",
       "      <td>3</td>\n",
       "      <td>The Outlaw</td>\n",
       "      <td>Western legends Pat Garrett, Doc Holliday and ...</td>\n",
       "    </tr>\n",
       "    <tr>\n",
       "      <th>4</th>\n",
       "      <td>4</td>\n",
       "      <td>The Shooter</td>\n",
       "      <td>The story is of a small town in the early west...</td>\n",
       "    </tr>\n",
       "    <tr>\n",
       "      <th>5</th>\n",
       "      <td>5</td>\n",
       "      <td>Terror in a Texas Town</td>\n",
       "      <td>A Swedish whaler is out for revenge when he fi...</td>\n",
       "    </tr>\n",
       "    <tr>\n",
       "      <th>6</th>\n",
       "      <td>6</td>\n",
       "      <td>Pale Rider</td>\n",
       "      <td>A mysterious preacher protects a humble prospe...</td>\n",
       "    </tr>\n",
       "    <tr>\n",
       "      <th>7</th>\n",
       "      <td>7</td>\n",
       "      <td>Alvarez Kelly</td>\n",
       "      <td>During the Civil War, Mexican cattleman Alvare...</td>\n",
       "    </tr>\n",
       "    <tr>\n",
       "      <th>8</th>\n",
       "      <td>8</td>\n",
       "      <td>High Plains Drifter</td>\n",
       "      <td>A gunfighting stranger comes to the small sett...</td>\n",
       "    </tr>\n",
       "    <tr>\n",
       "      <th>9</th>\n",
       "      <td>9</td>\n",
       "      <td>Rough Night in Jericho</td>\n",
       "      <td>A former deputy and a strong-willed widow dete...</td>\n",
       "    </tr>\n",
       "  </tbody>\n",
       "</table>\n",
       "</div>"
      ],
      "text/plain": [
       "   Unnamed: 0                   title  \\\n",
       "0           0               Wild Bill   \n",
       "1           1              Wyatt Earp   \n",
       "2           2               Bad Girls   \n",
       "3           3              The Outlaw   \n",
       "4           4             The Shooter   \n",
       "5           5  Terror in a Texas Town   \n",
       "6           6              Pale Rider   \n",
       "7           7           Alvarez Kelly   \n",
       "8           8     High Plains Drifter   \n",
       "9           9  Rough Night in Jericho   \n",
       "\n",
       "                                                plot  \n",
       "0  The early career of legendary lawman Wild Bill...  \n",
       "1  Wyatt Earp is a movie about a man and his fami...  \n",
       "2  Four prostitutes join together to travel the O...  \n",
       "3  Western legends Pat Garrett, Doc Holliday and ...  \n",
       "4  The story is of a small town in the early west...  \n",
       "5  A Swedish whaler is out for revenge when he fi...  \n",
       "6  A mysterious preacher protects a humble prospe...  \n",
       "7  During the Civil War, Mexican cattleman Alvare...  \n",
       "8  A gunfighting stranger comes to the small sett...  \n",
       "9  A former deputy and a strong-willed widow dete...  "
      ]
     },
     "execution_count": 3,
     "metadata": {},
     "output_type": "execute_result"
    }
   ],
   "source": [
    "df.head(10)"
   ]
  },
  {
   "cell_type": "code",
   "execution_count": 4,
   "metadata": {
    "collapsed": true
   },
   "outputs": [],
   "source": [
    "es = Elasticsearch()"
   ]
  },
  {
   "cell_type": "code",
   "execution_count": 5,
   "metadata": {},
   "outputs": [
    {
     "data": {
      "text/plain": [
       "{u'error': {u'index': u'movie-index',\n",
       "  u'index_uuid': u'_NYpkmbySyG5mrNq45rz1w',\n",
       "  u'reason': u'index [movie-index/_NYpkmbySyG5mrNq45rz1w] already exists',\n",
       "  u'root_cause': [{u'index': u'movie-index',\n",
       "    u'index_uuid': u'_NYpkmbySyG5mrNq45rz1w',\n",
       "    u'reason': u'index [movie-index/_NYpkmbySyG5mrNq45rz1w] already exists',\n",
       "    u'type': u'index_already_exists_exception'}],\n",
       "  u'type': u'index_already_exists_exception'},\n",
       " u'status': 400}"
      ]
     },
     "execution_count": 5,
     "metadata": {},
     "output_type": "execute_result"
    }
   ],
   "source": [
    "es.indices.create(index=\"movie-index\", ignore=400)"
   ]
  },
  {
   "cell_type": "code",
   "execution_count": 6,
   "metadata": {
    "collapsed": true
   },
   "outputs": [],
   "source": [
    "for i in range(1, len(df.index)):\n",
    "    es.index(index='movie-index', doc_type='movie', body={\n",
    "        'id': i,\n",
    "        'title': df.loc[i]['title'],\n",
    "        'plot': df.loc[i]['plot']\n",
    "    })"
   ]
  },
  {
   "cell_type": "code",
   "execution_count": 7,
   "metadata": {
    "collapsed": true
   },
   "outputs": [],
   "source": [
    "res = es.search(index='movie-index', body={\"query\": {\"fuzzy\" : { \"title\" : \"texs\"}}}, size=3)"
   ]
  },
  {
   "cell_type": "code",
   "execution_count": 8,
   "metadata": {},
   "outputs": [
    {
     "data": {
      "text/plain": [
       "[{u'_id': u'AVy3OYxNUTIIhy1g5VSV',\n",
       "  u'_index': u'movie-index',\n",
       "  u'_score': 2.5036051,\n",
       "  u'_source': {u'id': 5,\n",
       "   u'plot': u'A Swedish whaler is out for revenge when he finds out that a greedy oil man murdered his father for their land.',\n",
       "   u'title': u'Terror in a Texas Town'},\n",
       "  u'_type': u'movie'},\n",
       " {u'_id': u'AVy24QSgUTIIhy1g5UAN',\n",
       "  u'_index': u'movie-index',\n",
       "  u'_score': 2.4423828,\n",
       "  u'_source': {u'id': 5,\n",
       "   u'plot': u'A Swedish whaler is out for revenge when he finds out that a greedy oil man murdered his father for their land.',\n",
       "   u'title': u'Terror in a Texas Town'},\n",
       "  u'_type': u'movie'},\n",
       " {u'_id': u'AVy2_tfMUTIIhy1g5UJt',\n",
       "  u'_index': u'movie-index',\n",
       "  u'_score': 2.4253943,\n",
       "  u'_source': {u'id': 5,\n",
       "   u'plot': u'A Swedish whaler is out for revenge when he finds out that a greedy oil man murdered his father for their land.',\n",
       "   u'title': u'Terror in a Texas Town'},\n",
       "  u'_type': u'movie'}]"
      ]
     },
     "execution_count": 8,
     "metadata": {},
     "output_type": "execute_result"
    }
   ],
   "source": [
    "res['hits']['hits']"
   ]
  },
  {
   "cell_type": "code",
   "execution_count": 9,
   "metadata": {},
   "outputs": [
    {
     "name": "stdout",
     "output_type": "stream",
     "text": [
      "A Swedish whaler is out for revenge when he finds out that a greedy oil man murdered his father for their land.\n",
      "A Swedish whaler is out for revenge when he finds out that a greedy oil man murdered his father for their land.\n",
      "A Swedish whaler is out for revenge when he finds out that a greedy oil man murdered his father for their land.\n"
     ]
    }
   ],
   "source": [
    "for doc in res['hits']['hits']:\n",
    "    print doc['_source']['plot']"
   ]
  },
  {
   "cell_type": "code",
   "execution_count": 10,
   "metadata": {
    "collapsed": true
   },
   "outputs": [],
   "source": [
    "# Delete index when too many values are indexed\n",
    "#es.indices.delete(index='movie-index', ignore=[400, 404])\n",
    "#es.indices.delete(index='western', ignore=[400, 404])"
   ]
  },
  {
   "cell_type": "code",
   "execution_count": 11,
   "metadata": {
    "collapsed": true
   },
   "outputs": [],
   "source": [
    "movies = es.search(\n",
    "            index='western',\n",
    "            body={\"query\": {\n",
    "                    \"multi_match\": {\n",
    "                        \"fields\":  [ \"title\", \"plot\" ],\n",
    "                        \"query\": \"ranger\",\n",
    "                        \"fuzziness\": \"AUTO\"\n",
    "                    }\n",
    "                },\n",
    "                \"highlight\": {\n",
    "                    \"fields\": {\n",
    "                        \"title\": {\"number_of_fragments\": 0},\n",
    "                        \"plot\": {\"number_of_fragments\": 0}\n",
    "                    }\n",
    "                }\n",
    "            },\n",
    "            size=3\n",
    "        )"
   ]
  },
  {
   "cell_type": "code",
   "execution_count": 12,
   "metadata": {},
   "outputs": [
    {
     "data": {
      "text/plain": [
       "[{u'_id': u'AVy3N0GzUTIIhy1g5VPT',\n",
       "  u'_index': u'western',\n",
       "  u'_score': 3.2168498,\n",
       "  u'_source': {u'id': 12,\n",
       "   u'plot': u'Edited version of the 1938 Republic serial \"The Lone Ranger.\"',\n",
       "   u'title': u'Hi-Yo Silver'},\n",
       "  u'_type': u'movie',\n",
       "  u'highlight': {u'plot': [u'Edited version of the 1938 Republic serial \"The Lone <em>Ranger</em>.\"']}},\n",
       " {u'_id': u'AVy3N0YvUTIIhy1g5VPs',\n",
       "  u'_index': u'western',\n",
       "  u'_score': 3.0563602,\n",
       "  u'_source': {u'id': 37,\n",
       "   u'plot': u'The sole surviving Texas Ranger of an ambush arranged by Butch Cavandish returns to fight back as a masked hero.',\n",
       "   u'title': u'The Legend of the Lone Ranger'},\n",
       "  u'_type': u'movie',\n",
       "  u'highlight': {u'plot': [u'The sole surviving Texas <em>Ranger</em> of an ambush arranged by Butch Cavandish returns to fight back as a masked hero.'],\n",
       "   u'title': [u'The Legend of the Lone <em>Ranger</em>']}},\n",
       " {u'_id': u'AVy3N1MmUTIIhy1g5VQz',\n",
       "  u'_index': u'western',\n",
       "  u'_score': 2.9207013,\n",
       "  u'_source': {u'id': 108,\n",
       "   u'plot': u'John Middleton is investigating cattle rustling when he is captured and tossed into a cave with Emmett...',\n",
       "   u'title': u'Lawless Range'},\n",
       "  u'_type': u'movie',\n",
       "  u'highlight': {u'title': [u'Lawless <em>Range</em>']}}]"
      ]
     },
     "execution_count": 12,
     "metadata": {},
     "output_type": "execute_result"
    }
   ],
   "source": [
    "movies['hits']['hits']"
   ]
  },
  {
   "cell_type": "code",
   "execution_count": 23,
   "metadata": {},
   "outputs": [
    {
     "data": {
      "text/plain": [
       "u'Edited version of the 1938 Republic serial \"The Lone <em>Ranger</em>.\"'"
      ]
     },
     "execution_count": 23,
     "metadata": {},
     "output_type": "execute_result"
    }
   ],
   "source": [
    "movies['hits']['hits'][0]['highlight']['plot'][0]"
   ]
  },
  {
   "cell_type": "code",
   "execution_count": 25,
   "metadata": {},
   "outputs": [
    {
     "data": {
      "text/plain": [
       "26"
      ]
     },
     "execution_count": 25,
     "metadata": {},
     "output_type": "execute_result"
    }
   ],
   "source": [
    "movies['hits']['total']"
   ]
  },
  {
   "cell_type": "code",
   "execution_count": null,
   "metadata": {
    "collapsed": true
   },
   "outputs": [],
   "source": []
  }
 ],
 "metadata": {
  "kernelspec": {
   "display_name": "Python 2",
   "language": "python",
   "name": "python2"
  },
  "language_info": {
   "codemirror_mode": {
    "name": "ipython",
    "version": 2
   },
   "file_extension": ".py",
   "mimetype": "text/x-python",
   "name": "python",
   "nbconvert_exporter": "python",
   "pygments_lexer": "ipython2",
   "version": "2.7.12"
  }
 },
 "nbformat": 4,
 "nbformat_minor": 2
}
